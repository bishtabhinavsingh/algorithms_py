{
  "nbformat": 4,
  "nbformat_minor": 0,
  "metadata": {
    "colab": {
      "name": "Queue, Heap, Graph - implementation",
      "provenance": []
    },
    "kernelspec": {
      "name": "python3",
      "display_name": "Python 3"
    },
    "language_info": {
      "name": "python"
    }
  },
  "cells": [
    {
      "cell_type": "markdown",
      "source": [
        "# ArrayQueue"
      ],
      "metadata": {
        "id": "b8aFlHMf2_VW"
      }
    },
    {
      "cell_type": "code",
      "source": [
        "class ArrayQueue:\n",
        "  def __init__(self):\n",
        "    self.first = 0\n",
        "    self.data = []\n",
        "    self.size = 0\n",
        "  \n",
        "  def length(self):\n",
        "    return self.size\n",
        "  \n",
        "  def is_empty(self):\n",
        "    return self.size == 0\n",
        "  \n",
        "  def enqueue(self, e):\n",
        "    self.data.append(e)\n",
        "    self.size += 1\n",
        "  \n",
        "  def dequeue(self):\n",
        "    value = self.data[self.first]\n",
        "    self.first -= 1\n",
        "    self.data[self.first] = None\n",
        "    return value\n",
        "  \n",
        "  def first(self):\n",
        "    return self.data[self.first]\n",
        "    "
      ],
      "metadata": {
        "id": "FVBYA9k35J18"
      },
      "execution_count": null,
      "outputs": []
    },
    {
      "cell_type": "code",
      "source": [
        "q = ArrayQueue()\n",
        "\n",
        "q.enqueue(10)\n",
        "q.enqueue(20)\n",
        "print(\"queue\", q.data)\n",
        "print(\"size\", q.size)\n",
        "print(\"dequeue\", q.dequeue())\n",
        "q.enqueue(30)\n",
        "q.enqueue(40)\n",
        "print(\"queue\", q.data)\n",
        "print(\"size\", q.size)"
      ],
      "metadata": {
        "colab": {
          "base_uri": "https://localhost:8080/"
        },
        "id": "h-GWhbEb0ozR",
        "outputId": "8b63f9f5-608c-44f6-d04f-988627140bb3"
      },
      "execution_count": null,
      "outputs": [
        {
          "output_type": "stream",
          "name": "stdout",
          "text": [
            "queue [10, 20]\n",
            "size 2\n",
            "dequeue 10\n",
            "queue [10, None, 30, 40]\n",
            "size 4\n"
          ]
        }
      ]
    },
    {
      "cell_type": "markdown",
      "source": [
        "# Heap"
      ],
      "metadata": {
        "id": "9MH1bVHE3D2s"
      }
    },
    {
      "cell_type": "code",
      "source": [
        "class MinHeap:\n",
        "  def __init__(self, capacity):\n",
        "    self.data = [0]*capacity\n",
        "    self.capacity = capacity\n",
        "    self.size = 0\n",
        "\n",
        "  def getParentIndex(self, index):\n",
        "    return (index-1)//2\n",
        "  \n",
        "  def getLeftChildIndex(self, index):\n",
        "    return 2 * index + 1\n",
        "  \n",
        "  def getRightChildIndex(self,index):\n",
        "    return 2 * index + 2\n",
        "  \n",
        "  def hasParent(self, index):\n",
        "    return self.getParentIndex(index) >= 0\n",
        "  \n",
        "  def hasLeftChild(self, index):\n",
        "    return self.getLeftChildIndex(index) < self.size\n",
        "\n",
        "  def hasRightChild(self, index):\n",
        "    return self.getRightChildIndex(index) < self.size\n",
        "  \n",
        "  def isFull(self):\n",
        "    return self.capacity == self.size\n",
        "  \n",
        "  def swap(self, index1, index2):\n",
        "    temp = self.data[index1]\n",
        "    self.data[index1] = self.data[index2]\n",
        "    self.index2 = temp\n",
        "  \n",
        "  def insert(self, data):\n",
        "    if (self.isFull()):\n",
        "      raise(\"Heap is full\")\n",
        "    self.data[self.size] = data\n",
        "    self.size += 1\n",
        "    self.heapifyUp()\n",
        "\n",
        "  def heapifyUp(self):\n",
        "    index = self.size -1 \n",
        "    while(self.hasParent(index) > self.data[index]):\n",
        "      self.swap(self.getParentIndex(index), index)\n",
        "      index = self.getParentIndex(index)\n",
        "\n",
        "  def removeMin(self):\n",
        "    if(self.size == 0):\n",
        "      raise(\"Heap is Empty!\")\n",
        "    storage = self.data[0]\n",
        "    self.data[0] = self.data[self.size - 1]\n",
        "    self.size -= 1\n",
        "    self.heapifyDown()\n",
        "  \n",
        "  def heapifyDown(self):\n",
        "    index = 0\n",
        "    while(self.hasLeftChild(index)):\n",
        "      smallerChildIndex = self.getLeftChildIndex(index)\n",
        "      if(self.hasRightChild(index) and self.getRightChildIndex(index) < self.leftChild(index)):\n",
        "        smallerChildIndex = self.getRightChildIndex(index)\n",
        "      if(self.data[index] < self.data[smallerChildIndex]):\n",
        "        break\n",
        "      else:\n",
        "        self.swap(index,smallerChildIndex)\n",
        "      index = smallerChildIndex\n",
        "  \n",
        "  "
      ],
      "metadata": {
        "id": "mHwVBTE83C_V"
      },
      "execution_count": 2,
      "outputs": []
    },
    {
      "cell_type": "code",
      "source": [
        "H = MinHeap(3)\n",
        "\n",
        "print(H.isFull())\n",
        "H.insert(1)\n",
        "H.insert(2)\n",
        "H.insert(5)\n",
        "print(H.isFull())\n",
        "\n",
        "H.removeMin()\n",
        "H.isFull()"
      ],
      "metadata": {
        "colab": {
          "base_uri": "https://localhost:8080/"
        },
        "id": "BxqYuZaX5m0B",
        "outputId": "5abfbf6e-d3d6-4006-9036-a8c006892dc4"
      },
      "execution_count": 3,
      "outputs": [
        {
          "output_type": "stream",
          "name": "stdout",
          "text": [
            "False\n",
            "True\n"
          ]
        },
        {
          "output_type": "execute_result",
          "data": {
            "text/plain": [
              "False"
            ]
          },
          "metadata": {},
          "execution_count": 3
        }
      ]
    },
    {
      "cell_type": "markdown",
      "source": [
        "# Graphs"
      ],
      "metadata": {
        "id": "UgY3I1beNYIK"
      }
    },
    {
      "cell_type": "code",
      "source": [
        "class Graph:\n",
        "    \n",
        "    graph_dict={}\n",
        "    \n",
        "    def addEdge(self,node,neighbour):  \n",
        "        if node not in self.graph_dict:\n",
        "            self.graph_dict[node]=[neighbour]\n",
        "        else:\n",
        "            self.graph_dict[node].append(neighbour)\n",
        "            \n",
        "    def show_edges(self):\n",
        "        for node in self.graph_dict:\n",
        "            for neighbour in self.graph_dict[node]:\n",
        "                print(\"(\",node,\", \",neighbour,\")\")\n",
        "    \n",
        "    def find_path(self,start,end,path=[]): #not the shortest path, just the first path\n",
        "            path = path + [start]    \n",
        "            if start==end:\n",
        "                return path\n",
        "            for node in self.graph_dict[start]:\n",
        "                if node not in path:\n",
        "                    newPath=self.find_path(node,end,path)\n",
        "                    if newPath:\n",
        "                        return newPath\n",
        "                    return None\n",
        "    "
      ],
      "metadata": {
        "id": "5c3oqiwdNZ-s"
      },
      "execution_count": 8,
      "outputs": []
    },
    {
      "cell_type": "code",
      "source": [
        "g= Graph()\n",
        "g.addEdge('1', '2')\n",
        "g.addEdge('1', '3')\n",
        "g.addEdge('2', '3')\n",
        "g.addEdge('2', '1')\n",
        "g.addEdge('3', '1')\n",
        "g.addEdge('3', '2')\n",
        "g.addEdge('3', '4')\n",
        "g.addEdge('4', '3')\n",
        "g.show_edges()"
      ],
      "metadata": {
        "colab": {
          "base_uri": "https://localhost:8080/"
        },
        "id": "ZB8qdb7sNqO6",
        "outputId": "e9badaaf-fd37-469e-ab7c-755356cb6e9c"
      },
      "execution_count": 5,
      "outputs": [
        {
          "output_type": "stream",
          "name": "stdout",
          "text": [
            "( 1 ,  2 )\n",
            "( 1 ,  3 )\n",
            "( 2 ,  3 )\n",
            "( 2 ,  1 )\n",
            "( 3 ,  1 )\n",
            "( 3 ,  2 )\n",
            "( 3 ,  4 )\n",
            "( 4 ,  3 )\n"
          ]
        }
      ]
    },
    {
      "cell_type": "code",
      "source": [
        "print(g.find_path(\"4\", \"1\"))"
      ],
      "metadata": {
        "colab": {
          "base_uri": "https://localhost:8080/"
        },
        "id": "ZwzVc0PENyZG",
        "outputId": "98219483-4b91-4a93-d56c-18e5cc351a1e"
      },
      "execution_count": 7,
      "outputs": [
        {
          "output_type": "stream",
          "name": "stdout",
          "text": [
            "['4', '3', '1']\n"
          ]
        }
      ]
    },
    {
      "cell_type": "markdown",
      "source": [
        "# Graphs > Algorithms"
      ],
      "metadata": {
        "id": "3X4EmHFvfW69"
      }
    },
    {
      "cell_type": "code",
      "source": [
        "class Graph:\n",
        "    \n",
        "    graph_dict={}\n",
        "    \n",
        "    def addEdge(self,node,neighbour):  \n",
        "        if node not in self.graph_dict:\n",
        "            self.graph_dict[node]=[neighbour]\n",
        "        else:\n",
        "            self.graph_dict[node].append(neighbour)\n",
        "            \n",
        "    def show_edges(self):\n",
        "        for node in self.graph_dict:\n",
        "            for neighbour in self.graph_dict[node]:\n",
        "                print(\"(\",node,\", \",neighbour,\")\")\n",
        "    \n",
        "    def find_path(self,start,end,path=[]): #not the shortest path, just the first path\n",
        "            path = path + [start]    \n",
        "            if start==end:\n",
        "                return path\n",
        "            for node in self.graph_dict[start]:\n",
        "                if node not in path:\n",
        "                    newPath=self.find_path(node,end,path)\n",
        "                    if newPath:\n",
        "                        return newPath\n",
        "                    return None\n",
        "    \n",
        "    def BFS(self,s):\n",
        "        visited={}\n",
        "        for i in self.graph_dict:\n",
        "            visited[i]=False\n",
        "        queue=[]\n",
        "        queue.append(s)\n",
        "        visited[s]=True\n",
        "        while len(queue)!=0:\n",
        "            s=queue.pop(0)\n",
        "            for node in self.graph_dict[s]:\n",
        "                if visited[node]!=True:\n",
        "                    visited[node]=True\n",
        "                    queue.append(node)\n",
        "            print(s,end=\" \")\n",
        "            \n",
        "    def All_Paths(self,start,end,path=[]):\n",
        "        path = path + [start]\n",
        "        if start == end:\n",
        "            return [path]\n",
        "        paths = []\n",
        "        for node in self.graph_dict[start]:\n",
        "            if node not in path:\n",
        "              newpaths = self.All_Paths(node, end, path)\n",
        "              for newpath in newpaths:\n",
        "                paths.append(newpath)\n",
        "        return paths\n",
        "    \n",
        "    def Shortest_Path(self,start,end,path=[]):\n",
        "        path=path+[start]\n",
        "        if start==end:\n",
        "            return path\n",
        "        shortest=None\n",
        "        for node in self.graph_dict[start]:\n",
        "            if node not in path:\n",
        "                newpath=self.Shortest_Path(node, end, path)\n",
        "                if newpath:\n",
        "                    if not shortest or len(shortest)>len(newpath):\n",
        "                        shortest=newpath\n",
        "        return shortest\n",
        "    \n",
        "    def DFS(self,s):\n",
        "        visited={}\n",
        "        for i in self.graph_dict:\n",
        "            visited[i]=False\n",
        "        stack=[s]\n",
        "        visited[s]=True\n",
        "        while stack:\n",
        "            n=stack.pop(len(stack)-1)\n",
        "            for i in self.graph_dict[n]:\n",
        "                if not visited[i]:\n",
        "                    stack.append(i)\n",
        "                    visited[i]=True\n",
        "            print(n)\n",
        "        \n",
        "        \n",
        "        \n",
        "g= Graph()\n",
        "g.addEdge('1', '2')\n",
        "g.addEdge('1', '3')\n",
        "g.addEdge('2', '3')\n",
        "g.addEdge('2', '1')\n",
        "g.addEdge('3', '1')\n",
        "g.addEdge('3', '2')\n",
        "g.addEdge('3', '4')\n",
        "g.addEdge('4', '3')\n",
        "g.DFS('1')"
      ],
      "metadata": {
        "id": "JFAQUU52fWLK"
      },
      "execution_count": null,
      "outputs": []
    }
  ]
}