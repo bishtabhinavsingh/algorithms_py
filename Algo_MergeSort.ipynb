{
  "cells": [
    {
      "cell_type": "code",
      "execution_count": 57,
      "metadata": {
        "id": "fRFEHIXnzc04",
        "colab": {
          "base_uri": "https://localhost:8080/"
        },
        "outputId": "ee3b6104-345b-4f3a-ee38-e95c243ff3fa"
      },
      "outputs": [
        {
          "output_type": "execute_result",
          "data": {
            "text/plain": [
              "[0, 1, 9, 16, 100]"
            ]
          },
          "metadata": {},
          "execution_count": 57
        }
      ],
      "source": [
        "nums = [-4,-1,0,3,10]\n",
        "nums_squared = [x*x for x in nums]\n",
        "        \n",
        "    \n",
        "def merge_sort(nums_squared):\n",
        "    if len(nums_squared) > 1:\n",
        "        mid = len(nums_squared)//2\n",
        "        left = nums_squared[:mid]\n",
        "        right = nums_squared[mid:]\n",
        "        i = j = k = 0\n",
        "        \n",
        "        merge_sort(left)\n",
        "        merge_sort(right)\n",
        "        while i < len(left) and j < len(right):\n",
        "            if left[i]<right[j]:\n",
        "                nums_squared[k] = left[i]\n",
        "                i += 1\n",
        "            else:\n",
        "                nums_squared[k] = right[j]\n",
        "                j += 1\n",
        "            k += 1\n",
        "\n",
        "        while  i < len(left):\n",
        "            nums_squared[k] = left[i]\n",
        "            i += 1\n",
        "            k += 1\n",
        "\n",
        "        while j < len(right):\n",
        "            nums_squared[k] = right[j]\n",
        "            j += 1\n",
        "            k += 1\n",
        "    return nums_squared\n",
        "\n",
        "\n",
        "merge_sort(nums_squared)\n",
        "                    "
      ]
    }
  ],
  "metadata": {
    "colab": {
      "name": "Algo - MergeSort.ipynb",
      "provenance": []
    },
    "kernelspec": {
      "display_name": "Python 3",
      "name": "python3"
    },
    "language_info": {
      "name": "python"
    }
  },
  "nbformat": 4,
  "nbformat_minor": 0
}