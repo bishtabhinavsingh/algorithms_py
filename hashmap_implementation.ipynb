{
  "nbformat": 4,
  "nbformat_minor": 0,
  "metadata": {
    "colab": {
      "name": "hashmap_implementation.ipynb",
      "provenance": []
    },
    "kernelspec": {
      "name": "python3",
      "display_name": "Python 3"
    },
    "language_info": {
      "name": "python"
    }
  },
  "cells": [
    {
      "cell_type": "code",
      "execution_count": 1,
      "metadata": {
        "id": "24PB1oIq959l"
      },
      "outputs": [],
      "source": [
        "def hash_get(key):\n",
        "  h = 0\n",
        "  for char in key:\n",
        "    h += ord(char)\n",
        "  return h % 100"
      ]
    },
    {
      "cell_type": "code",
      "source": [
        "hash_get('trial')"
      ],
      "metadata": {
        "colab": {
          "base_uri": "https://localhost:8080/"
        },
        "id": "MB6bQT0J-EIT",
        "outputId": "3b596f4a-bcb2-44ee-a5b3-a858618e10d7"
      },
      "execution_count": 2,
      "outputs": [
        {
          "output_type": "execute_result",
          "data": {
            "text/plain": [
              "40"
            ]
          },
          "metadata": {},
          "execution_count": 2
        }
      ]
    },
    {
      "cell_type": "code",
      "source": [
        "class HashTable:\n",
        "  def __init__(self):\n",
        "    self.MAX = 100\n",
        "    self.arr = [None for i in range(self.MAX)]\n",
        "  \n",
        "  def hash_get(self, key):\n",
        "    h = 0\n",
        "    for char in key:\n",
        "      h += ord(char)\n",
        "    return h % 100\n",
        "\n",
        "  def __setitem__(self, key, val):\n",
        "    h = self.hash_get(key)\n",
        "    self.arr[h] = val\n",
        "\n",
        "  def __getitem__(self,key):\n",
        "    h = self.hash_get(key)\n",
        "    return self.arr[h]\n",
        "  \n",
        "  def __delitem__(self, key):\n",
        "    h = self.hash_get(key)\n",
        "    self.arr[h] = None"
      ],
      "metadata": {
        "id": "8auJE_u5-KAk"
      },
      "execution_count": 33,
      "outputs": []
    },
    {
      "cell_type": "code",
      "source": [
        "t = HashTable()\n",
        "\n",
        "t['march 6'] = 130"
      ],
      "metadata": {
        "id": "iwvjHmF9-p_t"
      },
      "execution_count": 36,
      "outputs": []
    },
    {
      "cell_type": "code",
      "source": [
        "del t['march 6']"
      ],
      "metadata": {
        "id": "XYtSheOL_sz5"
      },
      "execution_count": 37,
      "outputs": []
    },
    {
      "cell_type": "code",
      "source": [
        "t.arr"
      ],
      "metadata": {
        "id": "MlXmUjYvAnFt"
      },
      "execution_count": null,
      "outputs": []
    },
    {
      "cell_type": "code",
      "source": [
        "some = {}\n",
        "\n",
        "for i in range(10):\n",
        "  some[i] = i*100\n",
        "some"
      ],
      "metadata": {
        "colab": {
          "base_uri": "https://localhost:8080/"
        },
        "id": "Vd4-59CZNMgR",
        "outputId": "6313c6ae-a358-4b28-d4f6-604c254b232c"
      },
      "execution_count": 40,
      "outputs": [
        {
          "output_type": "execute_result",
          "data": {
            "text/plain": [
              "{0: 0, 1: 100, 2: 200, 3: 300, 4: 400, 5: 500, 6: 600, 7: 700, 8: 800, 9: 900}"
            ]
          },
          "metadata": {},
          "execution_count": 40
        }
      ]
    },
    {
      "cell_type": "code",
      "source": [
        "text = \"this is some text with text\""
      ],
      "metadata": {
        "id": "4FM_y3eyNbjj"
      },
      "execution_count": 43,
      "outputs": []
    },
    {
      "cell_type": "code",
      "source": [
        "text_arr = text.split(\" \")"
      ],
      "metadata": {
        "id": "RgoPN_W6On4_"
      },
      "execution_count": 45,
      "outputs": []
    },
    {
      "cell_type": "code",
      "source": [
        "text_arr\n",
        "text_dict = {}\n"
      ],
      "metadata": {
        "id": "nWyIlcXqO0pz"
      },
      "execution_count": 47,
      "outputs": []
    },
    {
      "cell_type": "code",
      "source": [
        "for i in text_arr:\n",
        "  if i in text_dict:\n",
        "    text_dict[i]+=1\n",
        "  else:\n",
        "    text_dict[i]=1"
      ],
      "metadata": {
        "id": "nxbjl3c4O3bK"
      },
      "execution_count": 49,
      "outputs": []
    },
    {
      "cell_type": "code",
      "source": [
        "text_dict"
      ],
      "metadata": {
        "colab": {
          "base_uri": "https://localhost:8080/"
        },
        "id": "UM28sLMYP253",
        "outputId": "bc12e358-d679-40e2-cb04-5c6d91a6a123"
      },
      "execution_count": 50,
      "outputs": [
        {
          "output_type": "execute_result",
          "data": {
            "text/plain": [
              "{'is': 1, 'some': 1, 'text': 2, 'this': 1, 'with': 1}"
            ]
          },
          "metadata": {},
          "execution_count": 50
        }
      ]
    },
    {
      "cell_type": "code",
      "source": [
        "arr = [1,2,2,3,4,5,5,6]\n"
      ],
      "metadata": {
        "id": "88ix9MehP-OM"
      },
      "execution_count": 56,
      "outputs": []
    },
    {
      "cell_type": "code",
      "source": [
        "dict_arr = {}\n",
        "\n",
        "for i in arr:\n",
        "  if i in dict_arr:\n",
        "    dict_arr[i]+=1\n",
        "  else:\n",
        "    dict_arr[i]=1\n",
        "\n",
        "dict_arr"
      ],
      "metadata": {
        "colab": {
          "base_uri": "https://localhost:8080/"
        },
        "id": "h2FFXGJVQB1w",
        "outputId": "d8e46281-d2bd-40c3-a0e8-f44eba15caa4"
      },
      "execution_count": 57,
      "outputs": [
        {
          "output_type": "execute_result",
          "data": {
            "text/plain": [
              "{1: 1, 2: 2, 3: 1, 4: 1, 5: 2, 6: 1}"
            ]
          },
          "metadata": {},
          "execution_count": 57
        }
      ]
    },
    {
      "cell_type": "code",
      "source": [
        "import random\n",
        "\n",
        "arr_2 = []\n",
        "for i in range(100):\n",
        "  arr_2.append(random.randint(0, 100))"
      ],
      "metadata": {
        "id": "6Ys224V1QywH"
      },
      "execution_count": 63,
      "outputs": []
    },
    {
      "cell_type": "code",
      "source": [
        "arr_2"
      ],
      "metadata": {
        "colab": {
          "base_uri": "https://localhost:8080/"
        },
        "id": "UxLJuqcFRGsQ",
        "outputId": "1037e7c1-ee1b-45c5-8520-7853d2bc72c2"
      },
      "execution_count": 64,
      "outputs": [
        {
          "output_type": "execute_result",
          "data": {
            "text/plain": [
              "[1,\n",
              " 20,\n",
              " 13,\n",
              " 52,\n",
              " 39,\n",
              " 37,\n",
              " 27,\n",
              " 85,\n",
              " 28,\n",
              " 9,\n",
              " 83,\n",
              " 17,\n",
              " 53,\n",
              " 50,\n",
              " 19,\n",
              " 69,\n",
              " 52,\n",
              " 85,\n",
              " 57,\n",
              " 26,\n",
              " 44,\n",
              " 37,\n",
              " 65,\n",
              " 83,\n",
              " 37,\n",
              " 15,\n",
              " 51,\n",
              " 19,\n",
              " 46,\n",
              " 29,\n",
              " 12,\n",
              " 19,\n",
              " 71,\n",
              " 54,\n",
              " 73,\n",
              " 96,\n",
              " 12,\n",
              " 19,\n",
              " 48,\n",
              " 64,\n",
              " 3,\n",
              " 62,\n",
              " 87,\n",
              " 64,\n",
              " 29,\n",
              " 90,\n",
              " 12,\n",
              " 23,\n",
              " 74,\n",
              " 26,\n",
              " 15,\n",
              " 88,\n",
              " 27,\n",
              " 42,\n",
              " 54,\n",
              " 64,\n",
              " 52,\n",
              " 70,\n",
              " 42,\n",
              " 78,\n",
              " 94,\n",
              " 3,\n",
              " 81,\n",
              " 26,\n",
              " 47,\n",
              " 36,\n",
              " 44,\n",
              " 30,\n",
              " 64,\n",
              " 49,\n",
              " 79,\n",
              " 71,\n",
              " 20,\n",
              " 49,\n",
              " 94,\n",
              " 52,\n",
              " 85,\n",
              " 84,\n",
              " 80,\n",
              " 15,\n",
              " 97,\n",
              " 46,\n",
              " 47,\n",
              " 68,\n",
              " 90,\n",
              " 89,\n",
              " 59,\n",
              " 80,\n",
              " 94,\n",
              " 84,\n",
              " 10,\n",
              " 83,\n",
              " 58,\n",
              " 67,\n",
              " 98,\n",
              " 4,\n",
              " 46,\n",
              " 10,\n",
              " 93,\n",
              " 17]"
            ]
          },
          "metadata": {},
          "execution_count": 64
        }
      ]
    },
    {
      "cell_type": "code",
      "source": [
        "arr_2_dict = {}\n",
        "\n",
        "for i in arr_2:\n",
        "  if i in arr_2_dict:\n",
        "    arr_2_dict[i]+=1\n",
        "  else:\n",
        "    arr_2_dict[i] = 1\n",
        "\n",
        "arr_2_dict"
      ],
      "metadata": {
        "colab": {
          "base_uri": "https://localhost:8080/"
        },
        "id": "44-gRTqGRfqL",
        "outputId": "60f79796-ea9d-43b1-93a5-7cc1fd40f5fc"
      },
      "execution_count": 65,
      "outputs": [
        {
          "output_type": "execute_result",
          "data": {
            "text/plain": [
              "{1: 1,\n",
              " 3: 2,\n",
              " 4: 1,\n",
              " 9: 1,\n",
              " 10: 2,\n",
              " 12: 3,\n",
              " 13: 1,\n",
              " 15: 3,\n",
              " 17: 2,\n",
              " 19: 4,\n",
              " 20: 2,\n",
              " 23: 1,\n",
              " 26: 3,\n",
              " 27: 2,\n",
              " 28: 1,\n",
              " 29: 2,\n",
              " 30: 1,\n",
              " 36: 1,\n",
              " 37: 3,\n",
              " 39: 1,\n",
              " 42: 2,\n",
              " 44: 2,\n",
              " 46: 3,\n",
              " 47: 2,\n",
              " 48: 1,\n",
              " 49: 2,\n",
              " 50: 1,\n",
              " 51: 1,\n",
              " 52: 4,\n",
              " 53: 1,\n",
              " 54: 2,\n",
              " 57: 1,\n",
              " 58: 1,\n",
              " 59: 1,\n",
              " 62: 1,\n",
              " 64: 4,\n",
              " 65: 1,\n",
              " 67: 1,\n",
              " 68: 1,\n",
              " 69: 1,\n",
              " 70: 1,\n",
              " 71: 2,\n",
              " 73: 1,\n",
              " 74: 1,\n",
              " 78: 1,\n",
              " 79: 1,\n",
              " 80: 2,\n",
              " 81: 1,\n",
              " 83: 3,\n",
              " 84: 2,\n",
              " 85: 3,\n",
              " 87: 1,\n",
              " 88: 1,\n",
              " 89: 1,\n",
              " 90: 2,\n",
              " 93: 1,\n",
              " 94: 3,\n",
              " 96: 1,\n",
              " 97: 1,\n",
              " 98: 1}"
            ]
          },
          "metadata": {},
          "execution_count": 65
        }
      ]
    },
    {
      "cell_type": "code",
      "source": [
        "arr_2"
      ],
      "metadata": {
        "colab": {
          "base_uri": "https://localhost:8080/"
        },
        "id": "1DYfBgu7SJ1z",
        "outputId": "ca949e18-f869-46b4-cd74-90f31825330a"
      },
      "execution_count": 66,
      "outputs": [
        {
          "output_type": "execute_result",
          "data": {
            "text/plain": [
              "[1,\n",
              " 20,\n",
              " 13,\n",
              " 52,\n",
              " 39,\n",
              " 37,\n",
              " 27,\n",
              " 85,\n",
              " 28,\n",
              " 9,\n",
              " 83,\n",
              " 17,\n",
              " 53,\n",
              " 50,\n",
              " 19,\n",
              " 69,\n",
              " 52,\n",
              " 85,\n",
              " 57,\n",
              " 26,\n",
              " 44,\n",
              " 37,\n",
              " 65,\n",
              " 83,\n",
              " 37,\n",
              " 15,\n",
              " 51,\n",
              " 19,\n",
              " 46,\n",
              " 29,\n",
              " 12,\n",
              " 19,\n",
              " 71,\n",
              " 54,\n",
              " 73,\n",
              " 96,\n",
              " 12,\n",
              " 19,\n",
              " 48,\n",
              " 64,\n",
              " 3,\n",
              " 62,\n",
              " 87,\n",
              " 64,\n",
              " 29,\n",
              " 90,\n",
              " 12,\n",
              " 23,\n",
              " 74,\n",
              " 26,\n",
              " 15,\n",
              " 88,\n",
              " 27,\n",
              " 42,\n",
              " 54,\n",
              " 64,\n",
              " 52,\n",
              " 70,\n",
              " 42,\n",
              " 78,\n",
              " 94,\n",
              " 3,\n",
              " 81,\n",
              " 26,\n",
              " 47,\n",
              " 36,\n",
              " 44,\n",
              " 30,\n",
              " 64,\n",
              " 49,\n",
              " 79,\n",
              " 71,\n",
              " 20,\n",
              " 49,\n",
              " 94,\n",
              " 52,\n",
              " 85,\n",
              " 84,\n",
              " 80,\n",
              " 15,\n",
              " 97,\n",
              " 46,\n",
              " 47,\n",
              " 68,\n",
              " 90,\n",
              " 89,\n",
              " 59,\n",
              " 80,\n",
              " 94,\n",
              " 84,\n",
              " 10,\n",
              " 83,\n",
              " 58,\n",
              " 67,\n",
              " 98,\n",
              " 4,\n",
              " 46,\n",
              " 10,\n",
              " 93,\n",
              " 17]"
            ]
          },
          "metadata": {},
          "execution_count": 66
        }
      ]
    }
  ]
}