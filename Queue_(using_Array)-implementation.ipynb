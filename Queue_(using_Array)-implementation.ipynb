{
  "nbformat": 4,
  "nbformat_minor": 0,
  "metadata": {
    "colab": {
      "name": "Queue (using Array)",
      "provenance": []
    },
    "kernelspec": {
      "name": "python3",
      "display_name": "Python 3"
    },
    "language_info": {
      "name": "python"
    }
  },
  "cells": [
    {
      "cell_type": "code",
      "source": [
        "class ArrayQueue:\n",
        "  def __init__(self):\n",
        "    self.data = []\n",
        "    self.size = 0\n",
        "    self.front = 0\n",
        "  \n",
        "  def length(self):\n",
        "    return self.size\n",
        "  \n",
        "  def is_empty(self):\n",
        "    return self.size == 0\n",
        "  \n",
        "  def enqueue(self, e):\n",
        "    self.data.append(e)\n",
        "    self.size += 1\n",
        "  \n",
        "  def dequeue(self):\n",
        "    if self.is_empty():\n",
        "      raise Empty('Queue is Empty')\n",
        "    value = self.data[self.front]\n",
        "    self.data[self.front] = None\n",
        "    self.front += 1\n",
        "    self.size -= 1\n",
        "    return value\n",
        "  \n",
        "  def first(self):\n",
        "    return self.data[self.front]\n",
        "    "
      ],
      "metadata": {
        "id": "FVBYA9k35J18"
      },
      "execution_count": 1,
      "outputs": []
    },
    {
      "cell_type": "code",
      "source": [
        "q = ArrayQueue()\n",
        "\n",
        "q.enqueue(10)\n",
        "q.enqueue(20)\n",
        "print(\"queue\", q.data)\n",
        "print(\"size\", q.size)\n",
        "print(\"dequeue\", q.dequeue())\n",
        "q.enqueue(30)\n",
        "q.enqueue(40)\n",
        "print(\"queue\", q.data)\n",
        "print(\"size\", q.size)"
      ],
      "metadata": {
        "colab": {
          "base_uri": "https://localhost:8080/"
        },
        "id": "h-GWhbEb0ozR",
        "outputId": "cd6f8e41-e1b2-44a9-d236-288ec9c48b2e"
      },
      "execution_count": 5,
      "outputs": [
        {
          "output_type": "stream",
          "name": "stdout",
          "text": [
            "queue [10, 20]\n",
            "size 2\n",
            "dequeue 10\n",
            "queue [None, 20, 30, 40]\n",
            "size 3\n"
          ]
        }
      ]
    }
  ]
}
